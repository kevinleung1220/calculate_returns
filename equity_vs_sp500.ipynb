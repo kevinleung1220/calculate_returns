{
 "cells": [
  {
   "cell_type": "code",
   "execution_count": 11,
   "metadata": {
    "collapsed": true
   },
   "outputs": [],
   "source": [
    "import pandas as pd\n",
    "\n",
    "\n",
    "def calc_returns(equity_historical_prices, sp500_historical_prices, days, save_path):\n",
    "    equity_df = pd.read_csv(equity_historical_prices)  # read historical price table for equity\n",
    "    sp500_df = pd.read_csv(sp500_historical_prices)  # read historical price table for S&P 500\n",
    "    equity_prices = equity_df.loc[:days, 'Close']  # closing price series for chosen equity, from today's date to x-number of days\n",
    "    sp500_prices = sp500_df.loc[:days, 'Close']  # closing price series for S&P 500, from \"  \"\n",
    "    return_df = pd.DataFrame(columns = ['equity_returns', 'sp500_returns'])  # create empty data frame with 2 columns for returns\n",
    "    i = 0 \n",
    "    while 0 < days: \n",
    "        return_df.loc[i, 'equity_returns'] = equity_prices[days-1] / equity_prices[days] - 1  # populating data frame with equity returns\n",
    "        return_df.loc[i, 'sp500_returns'] = sp500_prices[days-1] / sp500_prices[days] - 1  # \" \" with S&P 500 returns\n",
    "        days -= 1 \n",
    "        i += 1\n",
    "    return_df.to_json(save_path)  # save data frame to path in JSON format\n",
    "    return return_df\n",
    "    \n",
    "calc_returns('http://real-chart.finance.yahoo.com/table.csv?s=AAPL&d=6&e=5&f=2016&g=d&a=11&b=12&c=1980&ignore=.csv', \n",
    "             'http://real-chart.finance.yahoo.com/table.csv?s=%5EGSPC&d=6&e=5&f=2016&g=d&a=0&b=3&c=1950&ignore=.csv', \n",
    "             9, 'C:/Users/User/Documents/SumZero/Data Pull/equity_vs_sp500.json')"
   ]
  },
  {
   "cell_type": "code",
   "execution_count": null,
   "outputs": [],
   "source": [
    ""
   ]
  }
 ],
 "metadata": {
  "kernelspec": {
   "display_name": "Python 2",
   "language": "python",
   "name": "python2"
  },
  "language_info": {
   "codemirror_mode": {
    "name": "ipython",
    "version": 2.0
   },
   "file_extension": ".py",
   "mimetype": "text/x-python",
   "name": "python",
   "nbconvert_exporter": "python",
   "pygments_lexer": "ipython2",
   "version": "2.7.6"
  }
 },
 "nbformat": 4,
 "nbformat_minor": 0
}